{
  "cells": [
    {
      "cell_type": "code",
      "execution_count": 76,
      "metadata": {
        "id": "qtrPRnRWeFw-"
      },
      "outputs": [],
      "source": [
        "import numpy as np\n",
        "import pandas as pd\n",
        "import matplotlib.pyplot as plt\n",
        "import seaborn as sns"
      ]
    },
    {
      "cell_type": "code",
      "execution_count": 77,
      "metadata": {
        "colab": {
          "base_uri": "https://localhost:8080/",
          "height": 206
        },
        "id": "QxTI6qCoeFxA",
        "outputId": "051bd025-8397-4d93-8526-32d90ab36e8b"
      },
      "outputs": [
        {
          "output_type": "execute_result",
          "data": {
            "text/html": [
              "\n",
              "  <div id=\"df-046234e8-36ca-44a9-9c78-3419781510ba\">\n",
              "    <div class=\"colab-df-container\">\n",
              "      <div>\n",
              "<style scoped>\n",
              "    .dataframe tbody tr th:only-of-type {\n",
              "        vertical-align: middle;\n",
              "    }\n",
              "\n",
              "    .dataframe tbody tr th {\n",
              "        vertical-align: top;\n",
              "    }\n",
              "\n",
              "    .dataframe thead th {\n",
              "        text-align: right;\n",
              "    }\n",
              "</style>\n",
              "<table border=\"1\" class=\"dataframe\">\n",
              "  <thead>\n",
              "    <tr style=\"text-align: right;\">\n",
              "      <th></th>\n",
              "      <th>age</th>\n",
              "      <th>sex</th>\n",
              "      <th>cp</th>\n",
              "      <th>trestbps</th>\n",
              "      <th>chol</th>\n",
              "      <th>fbs</th>\n",
              "      <th>restecg</th>\n",
              "      <th>thalach</th>\n",
              "      <th>exang</th>\n",
              "      <th>oldpeak</th>\n",
              "      <th>slope</th>\n",
              "      <th>ca</th>\n",
              "      <th>thal</th>\n",
              "      <th>presence</th>\n",
              "    </tr>\n",
              "  </thead>\n",
              "  <tbody>\n",
              "    <tr>\n",
              "      <th>0</th>\n",
              "      <td>70.0</td>\n",
              "      <td>1.0</td>\n",
              "      <td>4.0</td>\n",
              "      <td>130.00</td>\n",
              "      <td>322.00</td>\n",
              "      <td>0.00</td>\n",
              "      <td>2.00</td>\n",
              "      <td>109.00</td>\n",
              "      <td>0.00</td>\n",
              "      <td>2.40</td>\n",
              "      <td>2.00</td>\n",
              "      <td>3.00</td>\n",
              "      <td>3.00</td>\n",
              "      <td>2.0</td>\n",
              "    </tr>\n",
              "    <tr>\n",
              "      <th>1</th>\n",
              "      <td>67.0</td>\n",
              "      <td>0.0</td>\n",
              "      <td>3.0</td>\n",
              "      <td>115.00</td>\n",
              "      <td>564.00</td>\n",
              "      <td>0.00</td>\n",
              "      <td>2.00</td>\n",
              "      <td>160.00</td>\n",
              "      <td>0.00</td>\n",
              "      <td>1.60</td>\n",
              "      <td>2.00</td>\n",
              "      <td>0.00</td>\n",
              "      <td>7.00</td>\n",
              "      <td>1.0</td>\n",
              "    </tr>\n",
              "    <tr>\n",
              "      <th>2</th>\n",
              "      <td>57.0</td>\n",
              "      <td>1.0</td>\n",
              "      <td>2.0</td>\n",
              "      <td>124.00</td>\n",
              "      <td>261.00</td>\n",
              "      <td>0.00</td>\n",
              "      <td>0.00</td>\n",
              "      <td>141.00</td>\n",
              "      <td>0.00</td>\n",
              "      <td>0.30</td>\n",
              "      <td>1.00</td>\n",
              "      <td>0.00</td>\n",
              "      <td>7.00</td>\n",
              "      <td>2.0</td>\n",
              "    </tr>\n",
              "    <tr>\n",
              "      <th>3</th>\n",
              "      <td>64.0</td>\n",
              "      <td>1.0</td>\n",
              "      <td>4.0</td>\n",
              "      <td>128.00</td>\n",
              "      <td>263.00</td>\n",
              "      <td>0.00</td>\n",
              "      <td>0.00</td>\n",
              "      <td>105.00</td>\n",
              "      <td>1.00</td>\n",
              "      <td>0.20</td>\n",
              "      <td>2.00</td>\n",
              "      <td>1.00</td>\n",
              "      <td>7.00</td>\n",
              "      <td>1.0</td>\n",
              "    </tr>\n",
              "    <tr>\n",
              "      <th>4</th>\n",
              "      <td>74.0</td>\n",
              "      <td>0.0</td>\n",
              "      <td>2.0</td>\n",
              "      <td>120.00</td>\n",
              "      <td>269.00</td>\n",
              "      <td>0.00</td>\n",
              "      <td>2.00</td>\n",
              "      <td>121.00</td>\n",
              "      <td>1.00</td>\n",
              "      <td>0.20</td>\n",
              "      <td>1.00</td>\n",
              "      <td>1.00</td>\n",
              "      <td>3.00</td>\n",
              "      <td>1.0</td>\n",
              "    </tr>\n",
              "  </tbody>\n",
              "</table>\n",
              "</div>\n",
              "      <button class=\"colab-df-convert\" onclick=\"convertToInteractive('df-046234e8-36ca-44a9-9c78-3419781510ba')\"\n",
              "              title=\"Convert this dataframe to an interactive table.\"\n",
              "              style=\"display:none;\">\n",
              "        \n",
              "  <svg xmlns=\"http://www.w3.org/2000/svg\" height=\"24px\"viewBox=\"0 0 24 24\"\n",
              "       width=\"24px\">\n",
              "    <path d=\"M0 0h24v24H0V0z\" fill=\"none\"/>\n",
              "    <path d=\"M18.56 5.44l.94 2.06.94-2.06 2.06-.94-2.06-.94-.94-2.06-.94 2.06-2.06.94zm-11 1L8.5 8.5l.94-2.06 2.06-.94-2.06-.94L8.5 2.5l-.94 2.06-2.06.94zm10 10l.94 2.06.94-2.06 2.06-.94-2.06-.94-.94-2.06-.94 2.06-2.06.94z\"/><path d=\"M17.41 7.96l-1.37-1.37c-.4-.4-.92-.59-1.43-.59-.52 0-1.04.2-1.43.59L10.3 9.45l-7.72 7.72c-.78.78-.78 2.05 0 2.83L4 21.41c.39.39.9.59 1.41.59.51 0 1.02-.2 1.41-.59l7.78-7.78 2.81-2.81c.8-.78.8-2.07 0-2.86zM5.41 20L4 18.59l7.72-7.72 1.47 1.35L5.41 20z\"/>\n",
              "  </svg>\n",
              "      </button>\n",
              "      \n",
              "  <style>\n",
              "    .colab-df-container {\n",
              "      display:flex;\n",
              "      flex-wrap:wrap;\n",
              "      gap: 12px;\n",
              "    }\n",
              "\n",
              "    .colab-df-convert {\n",
              "      background-color: #E8F0FE;\n",
              "      border: none;\n",
              "      border-radius: 50%;\n",
              "      cursor: pointer;\n",
              "      display: none;\n",
              "      fill: #1967D2;\n",
              "      height: 32px;\n",
              "      padding: 0 0 0 0;\n",
              "      width: 32px;\n",
              "    }\n",
              "\n",
              "    .colab-df-convert:hover {\n",
              "      background-color: #E2EBFA;\n",
              "      box-shadow: 0px 1px 2px rgba(60, 64, 67, 0.3), 0px 1px 3px 1px rgba(60, 64, 67, 0.15);\n",
              "      fill: #174EA6;\n",
              "    }\n",
              "\n",
              "    [theme=dark] .colab-df-convert {\n",
              "      background-color: #3B4455;\n",
              "      fill: #D2E3FC;\n",
              "    }\n",
              "\n",
              "    [theme=dark] .colab-df-convert:hover {\n",
              "      background-color: #434B5C;\n",
              "      box-shadow: 0px 1px 3px 1px rgba(0, 0, 0, 0.15);\n",
              "      filter: drop-shadow(0px 1px 2px rgba(0, 0, 0, 0.3));\n",
              "      fill: #FFFFFF;\n",
              "    }\n",
              "  </style>\n",
              "\n",
              "      <script>\n",
              "        const buttonEl =\n",
              "          document.querySelector('#df-046234e8-36ca-44a9-9c78-3419781510ba button.colab-df-convert');\n",
              "        buttonEl.style.display =\n",
              "          google.colab.kernel.accessAllowed ? 'block' : 'none';\n",
              "\n",
              "        async function convertToInteractive(key) {\n",
              "          const element = document.querySelector('#df-046234e8-36ca-44a9-9c78-3419781510ba');\n",
              "          const dataTable =\n",
              "            await google.colab.kernel.invokeFunction('convertToInteractive',\n",
              "                                                     [key], {});\n",
              "          if (!dataTable) return;\n",
              "\n",
              "          const docLinkHtml = 'Like what you see? Visit the ' +\n",
              "            '<a target=\"_blank\" href=https://colab.research.google.com/notebooks/data_table.ipynb>data table notebook</a>'\n",
              "            + ' to learn more about interactive tables.';\n",
              "          element.innerHTML = '';\n",
              "          dataTable['output_type'] = 'display_data';\n",
              "          await google.colab.output.renderOutput(dataTable, element);\n",
              "          const docLink = document.createElement('div');\n",
              "          docLink.innerHTML = docLinkHtml;\n",
              "          element.appendChild(docLink);\n",
              "        }\n",
              "      </script>\n",
              "    </div>\n",
              "  </div>\n",
              "  "
            ],
            "text/plain": [
              "    age  sex   cp trestbps    chol  ... oldpeak slope    ca  thal presence\n",
              "0  70.0  1.0  4.0   130.00  322.00  ...    2.40  2.00  3.00  3.00      2.0\n",
              "1  67.0  0.0  3.0   115.00  564.00  ...    1.60  2.00  0.00  7.00      1.0\n",
              "2  57.0  1.0  2.0   124.00  261.00  ...    0.30  1.00  0.00  7.00      2.0\n",
              "3  64.0  1.0  4.0   128.00  263.00  ...    0.20  2.00  1.00  7.00      1.0\n",
              "4  74.0  0.0  2.0   120.00  269.00  ...    0.20  1.00  1.00  3.00      1.0\n",
              "\n",
              "[5 rows x 14 columns]"
            ]
          },
          "metadata": {},
          "execution_count": 77
        }
      ],
      "source": [
        "data = pd.read_csv(\"sample_data/final_dataset.csv\")\n",
        "type(data)\n",
        "data.head(5)\n"
      ]
    },
    {
      "cell_type": "code",
      "execution_count": 78,
      "metadata": {
        "colab": {
          "base_uri": "https://localhost:8080/"
        },
        "id": "LLgtQ_vceFxB",
        "outputId": "86fc726d-1604-486c-b978-059ab5c5f3b1"
      },
      "outputs": [
        {
          "output_type": "stream",
          "name": "stdout",
          "text": [
            "<class 'pandas.core.frame.DataFrame'>\n",
            "RangeIndex: 920 entries, 0 to 919\n",
            "Data columns (total 14 columns):\n",
            " #   Column    Non-Null Count  Dtype  \n",
            "---  ------    --------------  -----  \n",
            " 0   age       920 non-null    float64\n",
            " 1   sex       920 non-null    float64\n",
            " 2   cp        920 non-null    float64\n",
            " 3   trestbps  920 non-null    object \n",
            " 4   chol      920 non-null    object \n",
            " 5   fbs       920 non-null    object \n",
            " 6   restecg   920 non-null    object \n",
            " 7   thalach   920 non-null    object \n",
            " 8   exang     920 non-null    object \n",
            " 9   oldpeak   920 non-null    object \n",
            " 10  slope     920 non-null    object \n",
            " 11  ca        920 non-null    object \n",
            " 12  thal      920 non-null    object \n",
            " 13  presence  920 non-null    float64\n",
            "dtypes: float64(4), object(10)\n",
            "memory usage: 100.8+ KB\n",
            "74.0\t0.0\t2.0\t120.00\t269.00\t0.00\t2.00\t121.00\t1.00\t0.20\t1.00\t1.00\t3.00\t1.0\n",
            "0      1.0\n",
            "1      1.0\n",
            "2      1.0\n",
            "3      1.0\n",
            "4      1.0\n",
            "      ... \n",
            "915    1.0\n",
            "916    0.0\n",
            "917    1.0\n",
            "918    0.0\n",
            "919    1.0\n",
            "Name: presence, Length: 920, dtype: float64\n"
          ]
        },
        {
          "output_type": "stream",
          "name": "stderr",
          "text": [
            "/usr/local/lib/python3.7/dist-packages/ipykernel_launcher.py:9: SettingWithCopyWarning: \n",
            "A value is trying to be set on a copy of a slice from a DataFrame\n",
            "\n",
            "See the caveats in the documentation: https://pandas.pydata.org/pandas-docs/stable/user_guide/indexing.html#returning-a-view-versus-a-copy\n",
            "  if __name__ == '__main__':\n"
          ]
        }
      ],
      "source": [
        "data.describe()\n",
        "data.info()\n",
        "k=list(map(float,input().split()))\n",
        "\n",
        "data.append(k)\n",
        "f=len(data)-1\n",
        "for i in range(len(data['presence'])):\n",
        "    if data['presence'][i]==float(1) or data['presence'][i]==float(2) or data['presence'][i]==float(3) or data['presence'][i]==float(4):\n",
        "        data['presence'][i]=float(1)\n",
        "print(data['presence'])\n"
      ]
    },
    {
      "cell_type": "code",
      "execution_count": 79,
      "metadata": {
        "colab": {
          "base_uri": "https://localhost:8080/"
        },
        "id": "NbQu5moKeFxC",
        "outputId": "0b92073f-db52-4b16-82f9-a84ebbe6cb32"
      },
      "outputs": [
        {
          "output_type": "stream",
          "name": "stdout",
          "text": [
            "0      70.0\n",
            "1      67.0\n",
            "2      57.0\n",
            "3      64.0\n",
            "4      74.0\n",
            "       ... \n",
            "915    54.0\n",
            "916    62.0\n",
            "917    55.0\n",
            "918    58.0\n",
            "919    62.0\n",
            "Name: age, Length: 920, dtype: float64\n",
            "0      1.0\n",
            "1      0.0\n",
            "2      1.0\n",
            "3      1.0\n",
            "4      0.0\n",
            "      ... \n",
            "915    0.0\n",
            "916    1.0\n",
            "917    1.0\n",
            "918    1.0\n",
            "919    1.0\n",
            "Name: sex, Length: 920, dtype: float64\n",
            "0      4.0\n",
            "1      3.0\n",
            "2      2.0\n",
            "3      4.0\n",
            "4      2.0\n",
            "      ... \n",
            "915    4.0\n",
            "916    1.0\n",
            "917    4.0\n",
            "918    4.0\n",
            "919    2.0\n",
            "Name: cp, Length: 920, dtype: float64\n",
            "0      130.0\n",
            "1      115.0\n",
            "2      124.0\n",
            "3      128.0\n",
            "4      120.0\n",
            "       ...  \n",
            "915    127.0\n",
            "916    130.0\n",
            "917    122.0\n",
            "918    130.0\n",
            "919    120.0\n",
            "Name: trestbps, Length: 920, dtype: float64\n",
            "0      322.0\n",
            "1      564.0\n",
            "2      261.0\n",
            "3      263.0\n",
            "4      269.0\n",
            "       ...  \n",
            "915    333.0\n",
            "916    139.0\n",
            "917    223.0\n",
            "918    385.0\n",
            "919    254.0\n",
            "Name: chol, Length: 920, dtype: float64\n",
            "0      0.0\n",
            "1      0.0\n",
            "2      0.0\n",
            "3      0.0\n",
            "4      0.0\n",
            "      ... \n",
            "915    1.0\n",
            "916    0.0\n",
            "917    1.0\n",
            "918    1.0\n",
            "919    0.0\n",
            "Name: fbs, Length: 920, dtype: float64\n",
            "0      2.0\n",
            "1      2.0\n",
            "2      0.0\n",
            "3      0.0\n",
            "4      2.0\n",
            "      ... \n",
            "915    1.0\n",
            "916    1.0\n",
            "917    1.0\n",
            "918    2.0\n",
            "919    2.0\n",
            "Name: restecg, Length: 920, dtype: float64\n",
            "0      109.0\n",
            "1      160.0\n",
            "2      141.0\n",
            "3      105.0\n",
            "4      121.0\n",
            "       ...  \n",
            "915    154.0\n",
            "916    140.0\n",
            "917    100.0\n",
            "918    140.0\n",
            "919     93.0\n",
            "Name: thalach, Length: 920, dtype: float64\n",
            "0      0.0\n",
            "1      0.0\n",
            "2      0.0\n",
            "3      1.0\n",
            "4      1.0\n",
            "      ... \n",
            "915    0.0\n",
            "916    0.0\n",
            "917    0.0\n",
            "918    0.0\n",
            "919    1.0\n",
            "Name: exang, Length: 920, dtype: float64\n",
            "0      2.4\n",
            "1      1.6\n",
            "2      0.3\n",
            "3      0.2\n",
            "4      0.2\n",
            "      ... \n",
            "915    0.0\n",
            "916    0.5\n",
            "917    0.0\n",
            "918    0.5\n",
            "919    0.0\n",
            "Name: oldpeak, Length: 920, dtype: float64\n",
            "0      2.0\n",
            "1      2.0\n",
            "2      1.0\n",
            "3      2.0\n",
            "4      1.0\n",
            "      ... \n",
            "915    2.0\n",
            "916    2.0\n",
            "917    2.0\n",
            "918    2.0\n",
            "919    2.0\n",
            "Name: slope, Length: 920, dtype: float64\n",
            "0      3.0\n",
            "1      0.0\n",
            "2      0.0\n",
            "3      1.0\n",
            "4      1.0\n",
            "      ... \n",
            "915    0.0\n",
            "916    0.0\n",
            "917    0.0\n",
            "918    0.0\n",
            "919    0.0\n",
            "Name: ca, Length: 920, dtype: float64\n",
            "0      3.0\n",
            "1      7.0\n",
            "2      7.0\n",
            "3      7.0\n",
            "4      3.0\n",
            "      ... \n",
            "915    6.0\n",
            "916    6.0\n",
            "917    6.0\n",
            "918    6.0\n",
            "919    6.0\n",
            "Name: thal, Length: 920, dtype: float64\n",
            "0      1.0\n",
            "1      1.0\n",
            "2      1.0\n",
            "3      1.0\n",
            "4      1.0\n",
            "      ... \n",
            "915    1.0\n",
            "916    0.0\n",
            "917    1.0\n",
            "918    0.0\n",
            "919    1.0\n",
            "Name: presence, Length: 920, dtype: float64\n"
          ]
        }
      ],
      "source": [
        "for i in data:\n",
        "    data[i]=data[i].replace(\"?\",np.nan)\n",
        "    data[i]=data[i].astype(float)\n",
        "    data[i] = data[i].fillna(data[i].median())\n",
        "   \n",
        "    #data[i]=data[i].replace(\"?\",data[i].mean())\n",
        "    print(data[i])"
      ]
    },
    {
      "cell_type": "code",
      "execution_count": 80,
      "metadata": {
        "colab": {
          "base_uri": "https://localhost:8080/"
        },
        "id": "ERaDiknHeFxC",
        "outputId": "c60f47cd-1c39-4570-b862-5892dde6d2bf"
      },
      "outputs": [
        {
          "output_type": "stream",
          "name": "stdout",
          "text": [
            "presence    1.000000\n",
            "cp          0.349151\n",
            "oldpeak     0.319843\n",
            "exang       0.318324\n",
            "age         0.275131\n",
            "ca          0.218111\n",
            "restecg     0.184064\n",
            "sex         0.129822\n",
            "thalach     0.123904\n",
            "fbs         0.119448\n",
            "thal        0.117736\n",
            "chol        0.104025\n",
            "slope       0.092186\n",
            "trestbps    0.050402\n",
            "Name: presence, dtype: float64\n"
          ]
        }
      ],
      "source": [
        "print(data.corr()[\"presence\"].abs().sort_values(ascending=False))\n",
        "#data=data.corr()[\"presence\"].abs().sort_values(ascending=False)\n",
        "#data=data[['oldpeak','cp','age','exang','presence']]\n"
      ]
    },
    {
      "cell_type": "code",
      "execution_count": 81,
      "metadata": {
        "colab": {
          "base_uri": "https://localhost:8080/",
          "height": 295
        },
        "id": "YfVuNm0beFxD",
        "outputId": "9ece18b2-267e-4041-c3d2-ef9dc130b5e5"
      },
      "outputs": [
        {
          "output_type": "display_data",
          "data": {
            "image/png": "[encoded data removed]",
            "text/plain": [
              "<Figure size 432x288 with 1 Axes>"
            ]
          },
          "metadata": {
            "needs_background": "light"
          }
        }
      ],
      "source": [
        "X=data.iloc[:,:13]\n",
        "y=data.iloc[13]\n",
        "from sklearn.cluster import KMeans\n",
        "wcss =[]\n",
        "for i in range (1,11):\n",
        "    kmeans = KMeans(n_clusters = i, init = 'k-means++', max_iter =300, n_init = 10, random_state = 0)\n",
        "    kmeans.fit(X)\n",
        "    wcss.append(kmeans.inertia_)\n",
        "plt.plot(range(1,11),wcss)\n",
        "plt.title('The Elbow Method')\n",
        "plt.xlabel('Number of clusters')\n",
        "plt.ylabel('WCSS')\n",
        "plt.show()"
      ]
    },
    {
      "cell_type": "code",
      "execution_count": 81,
      "metadata": {
        "id": "TmVRv-VJeFxE"
      },
      "outputs": [],
      "source": [
        ""
      ]
    },
    {
      "cell_type": "code",
      "execution_count": 86,
      "metadata": {
        "colab": {
          "base_uri": "https://localhost:8080/",
          "height": 555
        },
        "id": "gtmxwT-OeFxE",
        "outputId": "abf07253-310e-4ee6-9dbe-a85b35f743c4"
      },
      "outputs": [
        {
          "output_type": "stream",
          "name": "stdout",
          "text": [
            "          age       sex         cp  ...      thal   presence  Cluster\n",
            "0    2.162007 -2.642710  11.346522  ...  4.998603   9.535602        5\n",
            "1   -3.580491  1.332027   5.876543  ... -4.947442   2.308737        0\n",
            "2    4.586435 -2.018015  -5.560665  ...  2.204468   2.797254        4\n",
            "3   -1.841997 -1.768164  -2.852894  ... -8.515467  -9.222275        1\n",
            "4    2.076692 -2.301873  11.581101  ...  5.649498   8.974561        5\n",
            "..        ...       ...        ...  ...       ...        ...      ...\n",
            "915  3.474491 -3.555192   9.007247  ...  6.328860  10.253150        5\n",
            "916 -4.179978  3.283879   7.520503  ... -4.069164   2.399138        0\n",
            "917 -3.629434  8.181117  -3.062264  ...  1.118403  -1.104187        6\n",
            "918  0.692079  2.140143   2.208644  ... -0.918631   2.807247        7\n",
            "919 -8.274597 -6.162135   0.655023  ... -2.211421  -6.577357        8\n",
            "\n",
            "[920 rows x 15 columns]\n",
            "8\n"
          ]
        },
        {
          "output_type": "display_data",
          "data": {
            "image/png": "[encoded data removed]",
            "text/plain": [
              "<Figure size 432x288 with 1 Axes>"
            ]
          },
          "metadata": {
            "needs_background": "light"
          }
        }
      ],
      "source": [
        "import pandas as pd\n",
        "from sklearn.cluster import KMeans\n",
        "from sklearn.datasets import make_blobs\n",
        "import seaborn as sns\n",
        "import matplotlib.pyplot as plt\n",
        "from sklearn.decomposition import PCA\n",
        "\n",
        "'''kmeans=KMeans(n_clusters= 2, init = 'k-means++', max_iter = 300, n_init = 10, random_state = 0)\n",
        "Y_Kmeans = kmeans.fit_predict(X)\n",
        "print(Y_Kmeans)\n",
        "# Visualising the clusters\n",
        "plt.scatter(Y_Kmeans,[0,1])'''\n",
        "X, _ = make_blobs(n_samples=len(data), centers=9, n_features=14)\n",
        "\n",
        "df = pd.DataFrame(X, columns=['age','sex','cp','trestbps','chol','fbs','restecg','thalach','exang','oldpeak','slope','ca','thal','presence'])\n",
        "kmeans = KMeans(n_clusters=9)\n",
        "\n",
        "y = kmeans.fit_predict(df[['age','sex','cp','trestbps','chol','fbs','restecg','thalach','exang','oldpeak','slope','ca','thal','presence']])\n",
        "\n",
        "df['Cluster'] = y\n",
        "\n",
        "print(df)\n",
        "print(df['Cluster'][f])\n",
        "reduced_data = PCA(n_components=2).fit_transform(df)\n",
        "results = pd.DataFrame(reduced_data,columns=['pca1','pca2'])\n",
        "\n",
        "sns.scatterplot(x=\"pca1\", y=\"pca2\", hue=df['Cluster'], data=results)\n",
        "plt.title('K-means Clustering with 2 dimensions')\n",
        "plt.show()"
      ]
    },
    {
      "cell_type": "code",
      "execution_count": 87,
      "metadata": {
        "colab": {
          "base_uri": "https://localhost:8080/"
        },
        "id": "sTLx9RdpeFxF",
        "outputId": "46964f27-6be1-4186-e96d-3f47129a6159"
      },
      "outputs": [
        {
          "output_type": "stream",
          "name": "stdout",
          "text": [
            "The accuracy score achieved using Linear SVM is: 85.71 %\n",
            "              precision    recall  f1-score   support\n",
            "\n",
            "         0.0       0.50      0.25      0.33         4\n",
            "         1.0       0.84      0.94      0.89        17\n",
            "\n",
            "    accuracy                           0.81        21\n",
            "   macro avg       0.67      0.60      0.61        21\n",
            "weighted avg       0.78      0.81      0.78        21\n",
            "\n",
            "The accuracy score achieved using Decision Tree is: 71.43 %\n",
            "The accuracy score achieved using Logistic Regression is: 85.71 %\n",
            "The accuracy score achieved using Linear SVM is: 80.95 %\n",
            "              precision    recall  f1-score   support\n",
            "\n",
            "         0.0       0.00      0.00      0.00         7\n",
            "         1.0       0.65      0.93      0.76        14\n",
            "\n",
            "    accuracy                           0.62        21\n",
            "   macro avg       0.33      0.46      0.38        21\n",
            "weighted avg       0.43      0.62      0.51        21\n",
            "\n"
          ]
        },
        {
          "output_type": "stream",
          "name": "stderr",
          "text": [
            "/usr/local/lib/python3.7/dist-packages/sklearn/linear_model/_logistic.py:818: ConvergenceWarning: lbfgs failed to converge (status=1):\n",
            "STOP: TOTAL NO. of ITERATIONS REACHED LIMIT.\n",
            "\n",
            "Increase the number of iterations (max_iter) or scale the data as shown in:\n",
            "    https://scikit-learn.org/stable/modules/preprocessing.html\n",
            "Please also refer to the documentation for alternative solver options:\n",
            "    https://scikit-learn.org/stable/modules/linear_model.html#logistic-regression\n",
            "  extra_warning_msg=_LOGISTIC_SOLVER_CONVERGENCE_MSG,\n"
          ]
        },
        {
          "output_type": "stream",
          "name": "stdout",
          "text": [
            "The accuracy score achieved using Decision Tree is: 76.19 %\n",
            "The accuracy score achieved using Logistic Regression is: 80.95 %\n"
          ]
        },
        {
          "output_type": "stream",
          "name": "stderr",
          "text": [
            "/usr/local/lib/python3.7/dist-packages/sklearn/linear_model/_logistic.py:818: ConvergenceWarning: lbfgs failed to converge (status=1):\n",
            "STOP: TOTAL NO. of ITERATIONS REACHED LIMIT.\n",
            "\n",
            "Increase the number of iterations (max_iter) or scale the data as shown in:\n",
            "    https://scikit-learn.org/stable/modules/preprocessing.html\n",
            "Please also refer to the documentation for alternative solver options:\n",
            "    https://scikit-learn.org/stable/modules/linear_model.html#logistic-regression\n",
            "  extra_warning_msg=_LOGISTIC_SOLVER_CONVERGENCE_MSG,\n"
          ]
        },
        {
          "output_type": "stream",
          "name": "stdout",
          "text": [
            "The accuracy score achieved using Linear SVM is: 80.95 %\n",
            "              precision    recall  f1-score   support\n",
            "\n",
            "         0.0       0.75      0.60      0.67         5\n",
            "         1.0       0.88      0.94      0.91        16\n",
            "\n",
            "    accuracy                           0.86        21\n",
            "   macro avg       0.82      0.77      0.79        21\n",
            "weighted avg       0.85      0.86      0.85        21\n",
            "\n",
            "The accuracy score achieved using Decision Tree is: 90.48 %\n",
            "The accuracy score achieved using Logistic Regression is: 80.95 %\n"
          ]
        },
        {
          "output_type": "stream",
          "name": "stderr",
          "text": [
            "/usr/local/lib/python3.7/dist-packages/sklearn/linear_model/_logistic.py:818: ConvergenceWarning: lbfgs failed to converge (status=1):\n",
            "STOP: TOTAL NO. of ITERATIONS REACHED LIMIT.\n",
            "\n",
            "Increase the number of iterations (max_iter) or scale the data as shown in:\n",
            "    https://scikit-learn.org/stable/modules/preprocessing.html\n",
            "Please also refer to the documentation for alternative solver options:\n",
            "    https://scikit-learn.org/stable/modules/linear_model.html#logistic-regression\n",
            "  extra_warning_msg=_LOGISTIC_SOLVER_CONVERGENCE_MSG,\n"
          ]
        },
        {
          "output_type": "stream",
          "name": "stdout",
          "text": [
            "The accuracy score achieved using Linear SVM is: 80.95 %\n",
            "              precision    recall  f1-score   support\n",
            "\n",
            "         0.0       0.00      0.00      0.00         4\n",
            "         1.0       0.81      1.00      0.89        17\n",
            "\n",
            "    accuracy                           0.81        21\n",
            "   macro avg       0.40      0.50      0.45        21\n",
            "weighted avg       0.66      0.81      0.72        21\n",
            "\n"
          ]
        },
        {
          "output_type": "stream",
          "name": "stderr",
          "text": [
            "/usr/local/lib/python3.7/dist-packages/sklearn/metrics/_classification.py:1308: UndefinedMetricWarning: Precision and F-score are ill-defined and being set to 0.0 in labels with no predicted samples. Use `zero_division` parameter to control this behavior.\n",
            "  _warn_prf(average, modifier, msg_start, len(result))\n",
            "/usr/local/lib/python3.7/dist-packages/sklearn/metrics/_classification.py:1308: UndefinedMetricWarning: Precision and F-score are ill-defined and being set to 0.0 in labels with no predicted samples. Use `zero_division` parameter to control this behavior.\n",
            "  _warn_prf(average, modifier, msg_start, len(result))\n",
            "/usr/local/lib/python3.7/dist-packages/sklearn/metrics/_classification.py:1308: UndefinedMetricWarning: Precision and F-score are ill-defined and being set to 0.0 in labels with no predicted samples. Use `zero_division` parameter to control this behavior.\n",
            "  _warn_prf(average, modifier, msg_start, len(result))\n"
          ]
        },
        {
          "output_type": "stream",
          "name": "stdout",
          "text": [
            "The accuracy score achieved using Decision Tree is: 90.48 %\n",
            "The accuracy score achieved using Logistic Regression is: 85.71 %\n"
          ]
        },
        {
          "output_type": "stream",
          "name": "stderr",
          "text": [
            "/usr/local/lib/python3.7/dist-packages/sklearn/linear_model/_logistic.py:818: ConvergenceWarning: lbfgs failed to converge (status=1):\n",
            "STOP: TOTAL NO. of ITERATIONS REACHED LIMIT.\n",
            "\n",
            "Increase the number of iterations (max_iter) or scale the data as shown in:\n",
            "    https://scikit-learn.org/stable/modules/preprocessing.html\n",
            "Please also refer to the documentation for alternative solver options:\n",
            "    https://scikit-learn.org/stable/modules/linear_model.html#logistic-regression\n",
            "  extra_warning_msg=_LOGISTIC_SOLVER_CONVERGENCE_MSG,\n"
          ]
        },
        {
          "output_type": "stream",
          "name": "stdout",
          "text": [
            "The accuracy score achieved using Linear SVM is: 66.67 %\n",
            "              precision    recall  f1-score   support\n",
            "\n",
            "         0.0       0.22      0.67      0.33         3\n",
            "         1.0       0.92      0.61      0.73        18\n",
            "\n",
            "    accuracy                           0.62        21\n",
            "   macro avg       0.57      0.64      0.53        21\n",
            "weighted avg       0.82      0.62      0.68        21\n",
            "\n",
            "The accuracy score achieved using Decision Tree is: 76.19 %\n",
            "The accuracy score achieved using Logistic Regression is: 71.43 %\n"
          ]
        },
        {
          "output_type": "stream",
          "name": "stderr",
          "text": [
            "/usr/local/lib/python3.7/dist-packages/sklearn/linear_model/_logistic.py:818: ConvergenceWarning: lbfgs failed to converge (status=1):\n",
            "STOP: TOTAL NO. of ITERATIONS REACHED LIMIT.\n",
            "\n",
            "Increase the number of iterations (max_iter) or scale the data as shown in:\n",
            "    https://scikit-learn.org/stable/modules/preprocessing.html\n",
            "Please also refer to the documentation for alternative solver options:\n",
            "    https://scikit-learn.org/stable/modules/linear_model.html#logistic-regression\n",
            "  extra_warning_msg=_LOGISTIC_SOLVER_CONVERGENCE_MSG,\n"
          ]
        },
        {
          "output_type": "stream",
          "name": "stdout",
          "text": [
            "The accuracy score achieved using Linear SVM is: 76.19 %\n",
            "              precision    recall  f1-score   support\n",
            "\n",
            "         0.0       0.33      0.17      0.22         6\n",
            "         1.0       0.72      0.87      0.79        15\n",
            "\n",
            "    accuracy                           0.67        21\n",
            "   macro avg       0.53      0.52      0.51        21\n",
            "weighted avg       0.61      0.67      0.63        21\n",
            "\n",
            "The accuracy score achieved using Decision Tree is: 80.95 %\n",
            "The accuracy score achieved using Logistic Regression is: 76.19 %\n",
            "The accuracy score achieved using Linear SVM is: 71.43 %\n",
            "              precision    recall  f1-score   support\n",
            "\n",
            "         0.0       0.00      0.00      0.00         5\n",
            "         1.0       0.75      0.94      0.83        16\n",
            "\n",
            "    accuracy                           0.71        21\n",
            "   macro avg       0.38      0.47      0.42        21\n",
            "weighted avg       0.57      0.71      0.63        21\n",
            "\n"
          ]
        },
        {
          "output_type": "stream",
          "name": "stderr",
          "text": [
            "/usr/local/lib/python3.7/dist-packages/sklearn/linear_model/_logistic.py:818: ConvergenceWarning: lbfgs failed to converge (status=1):\n",
            "STOP: TOTAL NO. of ITERATIONS REACHED LIMIT.\n",
            "\n",
            "Increase the number of iterations (max_iter) or scale the data as shown in:\n",
            "    https://scikit-learn.org/stable/modules/preprocessing.html\n",
            "Please also refer to the documentation for alternative solver options:\n",
            "    https://scikit-learn.org/stable/modules/linear_model.html#logistic-regression\n",
            "  extra_warning_msg=_LOGISTIC_SOLVER_CONVERGENCE_MSG,\n"
          ]
        },
        {
          "output_type": "stream",
          "name": "stdout",
          "text": [
            "The accuracy score achieved using Decision Tree is: 61.9 %\n",
            "The accuracy score achieved using Logistic Regression is: 76.19 %\n"
          ]
        },
        {
          "output_type": "stream",
          "name": "stderr",
          "text": [
            "/usr/local/lib/python3.7/dist-packages/sklearn/linear_model/_logistic.py:818: ConvergenceWarning: lbfgs failed to converge (status=1):\n",
            "STOP: TOTAL NO. of ITERATIONS REACHED LIMIT.\n",
            "\n",
            "Increase the number of iterations (max_iter) or scale the data as shown in:\n",
            "    https://scikit-learn.org/stable/modules/preprocessing.html\n",
            "Please also refer to the documentation for alternative solver options:\n",
            "    https://scikit-learn.org/stable/modules/linear_model.html#logistic-regression\n",
            "  extra_warning_msg=_LOGISTIC_SOLVER_CONVERGENCE_MSG,\n"
          ]
        },
        {
          "output_type": "stream",
          "name": "stdout",
          "text": [
            "The accuracy score achieved using Linear SVM is: 66.67 %\n",
            "              precision    recall  f1-score   support\n",
            "\n",
            "         0.0       0.50      0.33      0.40         6\n",
            "         1.0       0.76      0.87      0.81        15\n",
            "\n",
            "    accuracy                           0.71        21\n",
            "   macro avg       0.63      0.60      0.61        21\n",
            "weighted avg       0.69      0.71      0.69        21\n",
            "\n",
            "The accuracy score achieved using Decision Tree is: 71.43 %\n",
            "The accuracy score achieved using Logistic Regression is: 66.67 %\n"
          ]
        },
        {
          "output_type": "stream",
          "name": "stderr",
          "text": [
            "/usr/local/lib/python3.7/dist-packages/sklearn/linear_model/_logistic.py:818: ConvergenceWarning: lbfgs failed to converge (status=1):\n",
            "STOP: TOTAL NO. of ITERATIONS REACHED LIMIT.\n",
            "\n",
            "Increase the number of iterations (max_iter) or scale the data as shown in:\n",
            "    https://scikit-learn.org/stable/modules/preprocessing.html\n",
            "Please also refer to the documentation for alternative solver options:\n",
            "    https://scikit-learn.org/stable/modules/linear_model.html#logistic-regression\n",
            "  extra_warning_msg=_LOGISTIC_SOLVER_CONVERGENCE_MSG,\n"
          ]
        },
        {
          "output_type": "stream",
          "name": "stdout",
          "text": [
            "The accuracy score achieved using Linear SVM is: 80.95 %\n",
            "              precision    recall  f1-score   support\n",
            "\n",
            "         0.0       0.00      0.00      0.00         4\n",
            "         1.0       0.71      0.59      0.65        17\n",
            "\n",
            "    accuracy                           0.48        21\n",
            "   macro avg       0.36      0.29      0.32        21\n",
            "weighted avg       0.58      0.48      0.52        21\n",
            "\n",
            "The accuracy score achieved using Decision Tree is: 80.95 %\n",
            "The accuracy score achieved using Logistic Regression is: 80.95 %\n"
          ]
        },
        {
          "output_type": "stream",
          "name": "stderr",
          "text": [
            "/usr/local/lib/python3.7/dist-packages/sklearn/linear_model/_logistic.py:818: ConvergenceWarning: lbfgs failed to converge (status=1):\n",
            "STOP: TOTAL NO. of ITERATIONS REACHED LIMIT.\n",
            "\n",
            "Increase the number of iterations (max_iter) or scale the data as shown in:\n",
            "    https://scikit-learn.org/stable/modules/preprocessing.html\n",
            "Please also refer to the documentation for alternative solver options:\n",
            "    https://scikit-learn.org/stable/modules/linear_model.html#logistic-regression\n",
            "  extra_warning_msg=_LOGISTIC_SOLVER_CONVERGENCE_MSG,\n"
          ]
        }
      ],
      "source": [
        "m=[]\n",
        "from sklearn import svm\n",
        "from sklearn.metrics import accuracy_score\n",
        "from sklearn.model_selection import train_test_split\n",
        "from sklearn.neighbors import KNeighborsClassifier\n",
        "from sklearn.tree import DecisionTreeClassifier\n",
        "from sklearn.metrics import confusion_matrix\n",
        "from sklearn.linear_model import LogisticRegression\n",
        "from sklearn.metrics import classification_report\n",
        "for j in range(9):\n",
        "  p=[]\n",
        "  for i in range(len(df['Cluster'])):\n",
        "    if df['Cluster'][i]==j:\n",
        "      p.append([data['age'][i],data['sex'][i],data['cp'][i],data['trestbps'][i],data['chol'][i],data['fbs'][i],data['restecg'][i],data['thalach'][i],data['exang'][i],data['oldpeak'][i],data['slope'][i],data['ca'][i],data['thal'][i],data['presence'][i]])\n",
        "  l=pd.DataFrame(p)\n",
        "  \n",
        "\n",
        "  predictors = l.drop(13,axis=1)\n",
        "  target = l[13]\n",
        "\n",
        "  X_train,X_test,Y_train,Y_test = train_test_split(predictors,target,test_size=0.20,random_state=0)\n",
        "    #SVM\n",
        "   \n",
        "\n",
        "  sv = svm.SVC(kernel='linear')\n",
        "\n",
        "  sv.fit(X_train, Y_train)\n",
        "\n",
        "  Y_pred_svm = sv.predict(X_test)\n",
        "  score_svm = round(accuracy_score(Y_pred_svm,Y_test)*100,2)\n",
        "\n",
        "  print(\"The accuracy score achieved using Linear SVM is: \"+str(score_svm)+\" %\")\n",
        "  \n",
        "  \n",
        "  #KNN\n",
        " \n",
        "\n",
        "  knn = KNeighborsClassifier(n_neighbors=7)\n",
        "  knn.fit(X_train,Y_train)\n",
        "  Y_pred_knn=knn.predict(X_test)\n",
        "  score_knn = round(accuracy_score(Y_pred_knn,Y_test)*100,2)\n",
        "\n",
        "  \n",
        "  print(classification_report(Y_test,Y_pred_knn))\n",
        "  \n",
        "\n",
        "  max_accuracy = 0\n",
        "\n",
        "\n",
        "  for x in range(200):\n",
        "      dt = DecisionTreeClassifier(random_state=x)\n",
        "      dt.fit(X_train,Y_train)\n",
        "      Y_pred_dt = dt.predict(X_test)\n",
        "      current_accuracy = round(accuracy_score(Y_pred_dt,Y_test)*100,2)\n",
        "      if(current_accuracy>max_accuracy):\n",
        "          max_accuracy = current_accuracy\n",
        "          best_x = x\n",
        "          \n",
        "  #print(max_accuracy)\n",
        "  #print(best_x)\n",
        "\n",
        "\n",
        "  dt = DecisionTreeClassifier(random_state=best_x)\n",
        "  dt.fit(X_train,Y_train)\n",
        "  Y_pred_dt = dt.predict(X_test)\n",
        "  score_dt = round(accuracy_score(Y_pred_dt,Y_test)*100,2)\n",
        "\n",
        "  print(\"The accuracy score achieved using Decision Tree is: \"+str(score_dt)+\" %\")\n",
        "  \n",
        "  \n",
        "  lr = LogisticRegression()\n",
        "\n",
        "  lr.fit(X_train,Y_train)\n",
        "\n",
        "  Y_pred_lr = lr.predict(X_test)\n",
        "  score_lr = round(accuracy_score(Y_pred_lr,Y_test)*100,2)\n",
        "\n",
        "  print(\"The accuracy score achieved using Logistic Regression is: \"+str(score_lr)+\" %\")\n",
        " \n",
        "  \n",
        "  "
      ]
    },
    {
      "cell_type": "code",
      "execution_count": 88,
      "metadata": {
        "colab": {
          "base_uri": "https://localhost:8080/"
        },
        "id": "iKZsOylseFxL",
        "outputId": "8482c3d8-c904-4199-8c58-5597fa85c38b"
      },
      "outputs": [
        {
          "output_type": "stream",
          "name": "stdout",
          "text": [
            "[[ 3  1]\n",
            " [ 3 14]]\n"
          ]
        }
      ],
      "source": [
        "from sklearn.metrics import confusion_matrix\n",
        "confusion_matrix=confusion_matrix(Y_test,Y_pred_lr)\n",
        "print(confusion_matrix)\n"
      ]
    },
    {
      "cell_type": "code",
      "execution_count": 89,
      "metadata": {
        "colab": {
          "base_uri": "https://localhost:8080/"
        },
        "id": "SfaGhu1MeFxL",
        "outputId": "6e737838-72ac-4f8a-91c0-867c40ccbca0"
      },
      "outputs": [
        {
          "output_type": "stream",
          "name": "stdout",
          "text": [
            "              precision    recall  f1-score   support\n",
            "\n",
            "         0.0       0.50      0.75      0.60         4\n",
            "         1.0       0.93      0.82      0.87        17\n",
            "\n",
            "    accuracy                           0.81        21\n",
            "   macro avg       0.72      0.79      0.74        21\n",
            "weighted avg       0.85      0.81      0.82        21\n",
            "\n"
          ]
        }
      ],
      "source": [
        "from sklearn.metrics import classification_report\n",
        "print(classification_report(Y_test,Y_pred_lr))"
      ]
    }
  ],
  "metadata": {
    "kernelspec": {
      "display_name": "Python 3",
      "language": "python",
      "name": "python3"
    },
    "language_info": {
      "codemirror_mode": {
        "name": "ipython",
        "version": 3
      },
      "file_extension": ".py",
      "mimetype": "text/x-python",
      "name": "python",
      "nbconvert_exporter": "python",
      "pygments_lexer": "ipython3",
      "version": "3.7.3"
    },
    "colab": {
      "name": "DM Project.ipynb",
      "provenance": [],
      "collapsed_sections": []
    }
  },
  "nbformat": 4,
  "nbformat_minor": 0
}